{
 "cells": [
  {
   "cell_type": "markdown",
   "id": "5d39353d-7e6a-4ddb-a903-0e25e1a28e69",
   "metadata": {},
   "source": [
    "### Split training and test and synthesize data for training"
   ]
  },
  {
   "cell_type": "code",
   "execution_count": 11,
   "id": "06b8a957-9d96-4e00-b4e7-29c451236e5e",
   "metadata": {},
   "outputs": [],
   "source": [
    "import numpy as np\n",
    "import pandas as pd\n",
    "import matplotlib.pyplot as plt\n",
    "plt.rcParams[\"figure.figsize\"] = (16, 8)  #set default figure size\n",
    "import os\n",
    "import sys\n",
    "from PEMFC_project import _samplings , _equivalent_circuits, _reconstruct_Nyquist_plot,_data_summery "
   ]
  },
  {
   "cell_type": "code",
   "execution_count": 25,
   "id": "8792e0a1-2d11-4e5a-a9c0-ef308c785452",
   "metadata": {},
   "outputs": [],
   "source": [
    "eis = pd.read_csv('Data/EIS_O2_STOI.csv',header=0)\n",
    "o2_stoi = pd.read_csv('Data/O2_STOI.csv',header=None)\n",
    "freq = np.loadtxt('Data/PEMFC_freq.txt')\n",
    "eis.drop([98,155,156,157,158, 159, 160, 161, 162, 163, 164,165,181,182,249, 250,251],inplace=True) #\n",
    "eis.reset_index(inplace=True,drop=True)\n",
    "o2_stoi.drop([98,155,156,157,158, 159, 160, 161, 162, 163, 164,165,181,182,249, 250,251],inplace=True)\n",
    "o2_stoi.reset_index(inplace=True,drop=True)"
   ]
  },
  {
   "cell_type": "code",
   "execution_count": 26,
   "id": "02b24e47-67cb-4ba8-bbd4-2d9c0520e6cf",
   "metadata": {},
   "outputs": [],
   "source": [
    "eis_ny = pd.read_csv('Data/EIS_O2_STOI_ny.csv',header=0,index_col=0)\n",
    "o2_stoi_ny = pd.read_csv('Data/O2_STOI_ny.csv',header=0,index_col=0)"
   ]
  },
  {
   "cell_type": "code",
   "execution_count": 28,
   "id": "64838fd0-54fa-4202-9553-162d3aa1b526",
   "metadata": {},
   "outputs": [
    {
     "name": "stdout",
     "output_type": "stream",
     "text": [
      "(296, 62)\n",
      "(296,)\n",
      "(296,)\n"
     ]
    }
   ],
   "source": [
    "X_eis = np.r_[eis, eis_ny]\n",
    "\n",
    "y_o2_stoi = pd.concat([o2_stoi.iloc[:,0], o2_stoi_ny.iloc[:,0]],ignore_index=True)\n",
    "y_c = y_o2_stoi#.replace([1.4, 1.5, 1.6, 1.8, 2.0, 2.2, 2.5, 3.0], [0,0,1, 2, 3, 4, 5, 6,])\n",
    "y_c.reset_index(drop=True,inplace=True)\n",
    "print(X_eis.shape)\n",
    "print(y_o2_stoi.shape)\n",
    "print(y_c.shape)"
   ]
  },
  {
   "cell_type": "code",
   "execution_count": 5,
   "id": "69bcd4a8-7298-4736-adf6-b6162d65ee83",
   "metadata": {},
   "outputs": [],
   "source": [
    "o2_stoi_count = y_c.value_counts()\n",
    "df_o2_stoi_count = pd.DataFrame(index=o2_stoi_count.index,columns=['counts','proportion'])\n",
    "df_o2_stoi_count['counts'] = o2_stoi_count.values\n",
    "df_o2_stoi_count['proportion'] = np.divide(o2_stoi_count.values,np.sum(o2_stoi_count.values))\n",
    "df_o2_stoi_count.sort_index(inplace=True)"
   ]
  },
  {
   "cell_type": "markdown",
   "id": "ed8d420f-9280-4a5f-9aa2-a7bfe3c922bc",
   "metadata": {},
   "source": [
    "### Train and test split"
   ]
  },
  {
   "cell_type": "code",
   "execution_count": 6,
   "id": "95857e98-413b-4290-ab1a-53e37c4ee0cd",
   "metadata": {},
   "outputs": [
    {
     "name": "stdout",
     "output_type": "stream",
     "text": [
      "1.4 4 2\n",
      "1.5 11 7\n",
      "1.6 9 6\n",
      "1.8 77 53\n",
      "2.0 20 14\n",
      "2.2 135 94\n",
      "2.5 20 14\n",
      "3.0 20 14\n"
     ]
    }
   ],
   "source": [
    "from numpy.random import default_rng\n",
    "from sklearn.preprocessing import MinMaxScaler\n",
    "def train_test_split(df, X_eis, y_c, p_train=0.7, p_test=0.3) : \n",
    "    \n",
    "    o2_stoi_counts = df['counts']\n",
    "    o2_stoi_index = o2_stoi_counts.index\n",
    "    y_stoi = y_c.values\n",
    "    num= np.floor(o2_stoi_counts*p_train).astype(int)\n",
    "    train_index = np.array([])\n",
    "    rng = default_rng()\n",
    "    for s,c,n in zip(o2_stoi_index, o2_stoi_counts, num) :\n",
    "        print(s,c,n)\n",
    "        numbers = rng.choice(c, size=n, replace=False)\n",
    "        index = np.where(y_stoi==s)[0][numbers]\n",
    "        train_index = np.r_[train_index,index]\n",
    "    \n",
    "    train_index =np.unique(train_index).astype(int)\n",
    "\n",
    "    X_train = X_eis[train_index]\n",
    "    X_test = np.delete(X_eis,train_index,0)\n",
    "    \n",
    "    y_c_train = y_c[train_index]\n",
    "    #print(train_index)\n",
    "    y_c_test = np.delete(y_c.values,train_index)\n",
    "    \n",
    "    return X_train, X_test,y_c_train, y_c_test\n",
    "\n",
    "X_train, X_test, y_c_train, y_c_test = train_test_split(df_o2_stoi_count.loc[[1.4,1.5,1.6,1.8,2.0,2.2,2.5,3.0]], X_eis,y_c)"
   ]
  },
  {
   "cell_type": "code",
   "execution_count": 7,
   "id": "725ad8c1-f463-437b-9b6c-a80788e4ae92",
   "metadata": {},
   "outputs": [],
   "source": [
    "### Move all O2 stoi.=1.4 to test data\n",
    "\n",
    "intent = X_train[np.where(y_c_train == 1.4)[0]]\n",
    "X_test = np.r_[X_test,intent]\n",
    "y_c_test = np.r_[y_c_test, [1.4,1.4]]\n",
    "X_train = np.delete(X_train,np.where(y_c_train == 1.4)[0],0)\n",
    "y_c_train = np.delete(y_c_train,np.where(y_c_train == 1.4)[0],0)"
   ]
  },
  {
   "cell_type": "code",
   "execution_count": 8,
   "id": "111499c0-1949-4931-8765-b68c2ca6b253",
   "metadata": {},
   "outputs": [
    {
     "data": {
      "text/html": [
       "<div>\n",
       "<style scoped>\n",
       "    .dataframe tbody tr th:only-of-type {\n",
       "        vertical-align: middle;\n",
       "    }\n",
       "\n",
       "    .dataframe tbody tr th {\n",
       "        vertical-align: top;\n",
       "    }\n",
       "\n",
       "    .dataframe thead th {\n",
       "        text-align: right;\n",
       "    }\n",
       "</style>\n",
       "<table border=\"1\" class=\"dataframe\">\n",
       "  <thead>\n",
       "    <tr style=\"text-align: right;\">\n",
       "      <th></th>\n",
       "      <th>counts</th>\n",
       "      <th>proportion</th>\n",
       "    </tr>\n",
       "  </thead>\n",
       "  <tbody>\n",
       "    <tr>\n",
       "      <th>3.0</th>\n",
       "      <td>14</td>\n",
       "      <td>0.069307</td>\n",
       "    </tr>\n",
       "    <tr>\n",
       "      <th>2.5</th>\n",
       "      <td>14</td>\n",
       "      <td>0.069307</td>\n",
       "    </tr>\n",
       "    <tr>\n",
       "      <th>2.2</th>\n",
       "      <td>94</td>\n",
       "      <td>0.465347</td>\n",
       "    </tr>\n",
       "    <tr>\n",
       "      <th>2.0</th>\n",
       "      <td>14</td>\n",
       "      <td>0.069307</td>\n",
       "    </tr>\n",
       "    <tr>\n",
       "      <th>1.8</th>\n",
       "      <td>53</td>\n",
       "      <td>0.262376</td>\n",
       "    </tr>\n",
       "    <tr>\n",
       "      <th>1.6</th>\n",
       "      <td>6</td>\n",
       "      <td>0.029703</td>\n",
       "    </tr>\n",
       "    <tr>\n",
       "      <th>1.5</th>\n",
       "      <td>7</td>\n",
       "      <td>0.034653</td>\n",
       "    </tr>\n",
       "  </tbody>\n",
       "</table>\n",
       "</div>"
      ],
      "text/plain": [
       "     counts  proportion\n",
       "3.0      14    0.069307\n",
       "2.5      14    0.069307\n",
       "2.2      94    0.465347\n",
       "2.0      14    0.069307\n",
       "1.8      53    0.262376\n",
       "1.6       6    0.029703\n",
       "1.5       7    0.034653"
      ]
     },
     "execution_count": 8,
     "metadata": {},
     "output_type": "execute_result"
    }
   ],
   "source": [
    "_data_summery.target_summery(pd.Series(y_c_train)).sort_index(ascending=False)"
   ]
  },
  {
   "cell_type": "code",
   "execution_count": 9,
   "id": "ed43de80-32bf-441d-8da2-04c82d93dc08",
   "metadata": {},
   "outputs": [
    {
     "data": {
      "text/html": [
       "<div>\n",
       "<style scoped>\n",
       "    .dataframe tbody tr th:only-of-type {\n",
       "        vertical-align: middle;\n",
       "    }\n",
       "\n",
       "    .dataframe tbody tr th {\n",
       "        vertical-align: top;\n",
       "    }\n",
       "\n",
       "    .dataframe thead th {\n",
       "        text-align: right;\n",
       "    }\n",
       "</style>\n",
       "<table border=\"1\" class=\"dataframe\">\n",
       "  <thead>\n",
       "    <tr style=\"text-align: right;\">\n",
       "      <th></th>\n",
       "      <th>counts</th>\n",
       "      <th>proportion</th>\n",
       "    </tr>\n",
       "  </thead>\n",
       "  <tbody>\n",
       "    <tr>\n",
       "      <th>3.0</th>\n",
       "      <td>6</td>\n",
       "      <td>0.063830</td>\n",
       "    </tr>\n",
       "    <tr>\n",
       "      <th>2.5</th>\n",
       "      <td>6</td>\n",
       "      <td>0.063830</td>\n",
       "    </tr>\n",
       "    <tr>\n",
       "      <th>2.2</th>\n",
       "      <td>41</td>\n",
       "      <td>0.436170</td>\n",
       "    </tr>\n",
       "    <tr>\n",
       "      <th>2.0</th>\n",
       "      <td>6</td>\n",
       "      <td>0.063830</td>\n",
       "    </tr>\n",
       "    <tr>\n",
       "      <th>1.8</th>\n",
       "      <td>24</td>\n",
       "      <td>0.255319</td>\n",
       "    </tr>\n",
       "    <tr>\n",
       "      <th>1.6</th>\n",
       "      <td>3</td>\n",
       "      <td>0.031915</td>\n",
       "    </tr>\n",
       "    <tr>\n",
       "      <th>1.5</th>\n",
       "      <td>4</td>\n",
       "      <td>0.042553</td>\n",
       "    </tr>\n",
       "    <tr>\n",
       "      <th>1.4</th>\n",
       "      <td>4</td>\n",
       "      <td>0.042553</td>\n",
       "    </tr>\n",
       "  </tbody>\n",
       "</table>\n",
       "</div>"
      ],
      "text/plain": [
       "     counts  proportion\n",
       "3.0       6    0.063830\n",
       "2.5       6    0.063830\n",
       "2.2      41    0.436170\n",
       "2.0       6    0.063830\n",
       "1.8      24    0.255319\n",
       "1.6       3    0.031915\n",
       "1.5       4    0.042553\n",
       "1.4       4    0.042553"
      ]
     },
     "execution_count": 9,
     "metadata": {},
     "output_type": "execute_result"
    }
   ],
   "source": [
    "_data_summery.target_summery(pd.Series(y_c_test)).sort_index(ascending=False)"
   ]
  },
  {
   "cell_type": "code",
   "execution_count": 10,
   "id": "0ae6b590-bfd2-4e04-9d6e-7dab2546cd3e",
   "metadata": {},
   "outputs": [
    {
     "name": "stdout",
     "output_type": "stream",
     "text": [
      "(202, 62)\n",
      "(202,)\n",
      "(94, 62)\n",
      "(94,)\n"
     ]
    }
   ],
   "source": [
    "print(X_train.shape)\n",
    "print(y_c_train.shape)\n",
    "print(X_test.shape)\n",
    "print(y_c_test.shape)"
   ]
  },
  {
   "cell_type": "markdown",
   "id": "adb6230d-2c73-4d7e-9f6f-126385f7f5d5",
   "metadata": {},
   "source": [
    "### Naive SMOTE-ENN for training data"
   ]
  },
  {
   "cell_type": "code",
   "execution_count": 11,
   "id": "795aa15b-a833-43e1-bc2a-a584cca16eed",
   "metadata": {},
   "outputs": [],
   "source": [
    "from sklearn.neighbors import NearestNeighbors\n",
    "\n",
    "def NaiveSMOTE(X, N=100, K=4):\n",
    "    \"\"\"\n",
    "    {X}: minority class samples;\n",
    "    {N}: Amount of SMOTE; default 100;\n",
    "    {K} Number of nearest; default 5;\n",
    "    \"\"\"\n",
    "    # {T}: Number of minority class samples; \n",
    "    T = X.shape[0]\n",
    "    if N < 100:\n",
    "        T = (N/100) * T\n",
    "        N = 100\n",
    "    N = (int)(N/100)\n",
    "    \n",
    "    numattrs = X.shape[1]\n",
    "    samples = X[:T]\n",
    "    neigh = NearestNeighbors(n_neighbors=K)\n",
    "    neigh.fit(samples)\n",
    "\n",
    "    Synthetic = np.zeros((T*N, numattrs))\n",
    "    newindex = 0\n",
    "    \n",
    "    def Populate(N, i, nns, newindex):\n",
    "        \"\"\"\n",
    "        Function to generate the synthetic samples.\n",
    "        \"\"\"\n",
    "        for n in range(N):\n",
    "            nn = np.random.randint(0, K)\n",
    "            for attr in range(numattrs):\n",
    "                dif = samples[nns[nn], attr] - samples[i, attr]\n",
    "                gap = np.random.random()\n",
    "                Synthetic[newindex, attr] = samples[i, attr] + gap*dif\n",
    "            newindex += 1\n",
    "        return newindex\n",
    "    \n",
    "    for i in range(T):\n",
    "        nns = neigh.kneighbors([samples[i]], K, return_distance=False)\n",
    "        newindex = Populate(N, i, nns[0], newindex)\n",
    "    return Synthetic, newindex\n",
    "\n",
    "def NaiveENN(x, L_c, y_c, K=5):\n",
    "    \"\"\"\n",
    "        {x}: samples;\n",
    "        {xL}: large samples;\n",
    "        {y}: target classes\n",
    "        {K} Number of nearest; default 5;\n",
    "    \"\"\"   \n",
    "    def find_delete_ind(L_c, y_c):\n",
    "        xL_ind = np.where(y_c==L_c[0])[0]\n",
    "        if len(L_c)==1:\n",
    "            xL_ind.tolist()\n",
    "        else :\n",
    "            for c in L_c[1:]:\n",
    "                np.r_[xL_ind, np.where(y_c==c)[0]]\n",
    "            xL_ind.tolist()\n",
    "        return xL_ind\n",
    "    \n",
    "    def mode(data):\n",
    "        values, counts = np.unique(data, return_counts=True)\n",
    "        return values[np.where(counts == max(counts))[0][0]]\n",
    "        \n",
    "    c = np.unique(y_c)\n",
    "    neigh = NearestNeighbors(n_neighbors=K, n_jobs=5)\n",
    "    neigh.fit(x)\n",
    "    dist, neighbors = neigh.kneighbors(x, n_neighbors=K, return_distance=True)\n",
    "    \n",
    "    #xL_ind = np.where(y_c==L_c)[0].tolist()\n",
    "    xL_ind = find_delete_ind(L_c, y_c)\n",
    "    \n",
    "    xL = x[xL_ind,:]\n",
    "    n = []\n",
    "    for i in xL_ind:\n",
    "        if not y_c[i] == mode(y_c[neighbors[i][1:]]):\n",
    "            n.append(i)\n",
    "\n",
    "    delindex = np.unique(n)\n",
    "\n",
    "    return delindex"
   ]
  },
  {
   "cell_type": "code",
   "execution_count": 14,
   "id": "7920901c-af2f-4ff3-8f49-ed4251f68bdb",
   "metadata": {},
   "outputs": [
    {
     "data": {
      "text/plain": [
       "array([  6,   7,   8,  14,  15, 173, 174, 175, 183, 184, 185, 186, 200,\n",
       "       201], dtype=int64)"
      ]
     },
     "execution_count": 14,
     "metadata": {},
     "output_type": "execute_result"
    }
   ],
   "source": [
    "np.where(y_c_train == 3)[0]"
   ]
  },
  {
   "cell_type": "code",
   "execution_count": 15,
   "id": "4cc83060-7d69-4e5e-a60e-8f30719df2e4",
   "metadata": {},
   "outputs": [],
   "source": [
    "ind_3d0 = np.where(y_c_train == 3)[0]\n",
    "eis_3d0 = X_train[ind_3d0,:]\n",
    "\n",
    "ind_2d5 = np.where(y_c_train == 2.5)[0]\n",
    "eis_2d5 = X_train[ind_2d5,:]\n",
    "\n",
    "ind_2d0 = np.where(y_c_train == 2.0)[0]\n",
    "eis_2d0 = X_train[ind_2d0,:]\n",
    "\n",
    "ind_1d6 = np.where(y_c_train == 1.6)[0]\n",
    "eis_1d6 = X_train[ind_1d6,:]\n",
    "\n",
    "ind_1d5 = np.where(y_c_train == 1.5)[0]\n",
    "eis_1d5 = X_train[ind_1d5,:]\n",
    "\n",
    "ind_1d4 = np.where(y_c_test == 1.4)[0]\n",
    "eis_1d4 = X_train[ind_1d4,:]"
   ]
  },
  {
   "cell_type": "code",
   "execution_count": 16,
   "id": "2d176d9c-798e-4daf-aaac-1cdb06b8b4ed",
   "metadata": {},
   "outputs": [],
   "source": [
    "eis_3d0_syn, ind_3d0_syn = NaiveSMOTE(eis_3d0, N=500)\n",
    "eis_2d5_syn, ind_2d5_syn = NaiveSMOTE(eis_2d5, N=500)\n",
    "eis_2d0_syn, ind_2d0_syn = NaiveSMOTE(eis_2d0, N=500)\n",
    "eis_1d6_syn, ind_1d6_syn = NaiveSMOTE(eis_1d6, N=500)\n",
    "eis_1d5_syn, ind_1d5_syn = NaiveSMOTE(eis_1d5, N=800)\n",
    "eis_1d4_syn, ind_1d4_syn = NaiveSMOTE(eis_1d4, N=500)"
   ]
  },
  {
   "cell_type": "code",
   "execution_count": 17,
   "id": "693ea4dc-235c-4a63-b778-bb117abfb071",
   "metadata": {},
   "outputs": [
    {
     "data": {
      "text/plain": [
       "(-0.006, 0.02)"
      ]
     },
     "execution_count": 17,
     "metadata": {},
     "output_type": "execute_result"
    },
    {
     "data": {
      "image/png": "[encoded data removed]",
      "text/plain": [
       "<Figure size 800x800 with 1 Axes>"
      ]
     },
     "metadata": {},
     "output_type": "display_data"
    }
   ],
   "source": [
    "plt.figure(figsize=(8,8))\n",
    "labels = ['ic=3.0','ic=2.5','ic=2.0','ic=1.6','ic=1.5','ic=1.4']\n",
    "for s,la in zip([eis_3d0_syn, eis_2d5_syn, eis_2d0_syn,eis_1d6_syn,eis_1d5_syn, eis_1d4_syn],labels):\n",
    "    plt.scatter(s[:,:31],s[:,31:],s=4,label=la)\n",
    "    \n",
    "plt.legend(loc='upper right',markerscale=3,frameon=False, fontsize=15)\n",
    "plt.xticks(np.linspace(0,0.040,6),fontsize=15)\n",
    "plt.yticks(fontsize=15)\n",
    "plt.ylabel('-Z\"/Ω $\\mathregular{m^2}$', fontsize=18)\n",
    "plt.xlabel('Z${\\'}$/Ω $\\mathregular{m^2}$', fontsize=18)\n",
    "plt.ylim([-6e-3,2e-2])\n",
    "#plt.title('Synthesis minority data ',fontsize=18)"
   ]
  },
  {
   "cell_type": "code",
   "execution_count": 18,
   "id": "6253a7b7-eb9f-45fb-a265-6226588f7923",
   "metadata": {},
   "outputs": [],
   "source": [
    "x_train_se = X_train.copy()\n",
    "y_train_se = y_c_train.copy()\n",
    "for syn, ind in zip([eis_3d0_syn,eis_2d5_syn,eis_2d0_syn,eis_1d6_syn,eis_1d5_syn,eis_1d4_syn],[3,2.5,2,1.6,1.5,1.4]):\n",
    "    x_train_se = np.append(x_train_se,syn,axis=0)\n",
    "    y_train_se = np.append(y_train_se,ind*np.ones(syn.shape[0]))"
   ]
  },
  {
   "cell_type": "code",
   "execution_count": 19,
   "id": "6588929f-332b-4907-b324-0aef150c5888",
   "metadata": {},
   "outputs": [],
   "source": [
    "df_x_train = pd.DataFrame(index=np.arange(0,len(y_train_se),1, dtype=int),columns=np.arange(1,63,1, dtype=int))\n",
    "for i in range(len(y_train_se)):\n",
    "    df_x_train.loc[i] =x_train_se[i]\n",
    "df_x_train.drop_duplicates(inplace=True)\n",
    "df_y_train = pd.Series(y_train_se[df_x_train.index])\n"
   ]
  },
  {
   "cell_type": "code",
   "execution_count": 20,
   "id": "aebb7e87-2aab-4a7a-8135-2a12e4846c50",
   "metadata": {},
   "outputs": [],
   "source": [
    "x_train_se = df_x_train.values\n",
    "y_train_se = df_y_train.values.reshape(-1, 1)\n",
    "for de in [2.2]:\n",
    "    delindex = NaiveENN(x_train_se, [de], y_train_se, K=5)\n",
    "    if len(delindex) == 0:continue\n",
    "    else:\n",
    "        y_train_se = np.delete(y_train_se,delindex)\n",
    "        x_train_se = np.delete(x_train_se,delindex,axis=0)"
   ]
  },
  {
   "cell_type": "code",
   "execution_count": 21,
   "id": "e2047908-568a-47bb-ad3a-707b67600fd0",
   "metadata": {},
   "outputs": [
    {
     "data": {
      "text/html": [
       "<div>\n",
       "<style scoped>\n",
       "    .dataframe tbody tr th:only-of-type {\n",
       "        vertical-align: middle;\n",
       "    }\n",
       "\n",
       "    .dataframe tbody tr th {\n",
       "        vertical-align: top;\n",
       "    }\n",
       "\n",
       "    .dataframe thead th {\n",
       "        text-align: right;\n",
       "    }\n",
       "</style>\n",
       "<table border=\"1\" class=\"dataframe\">\n",
       "  <thead>\n",
       "    <tr style=\"text-align: right;\">\n",
       "      <th></th>\n",
       "      <th>counts</th>\n",
       "      <th>proportion</th>\n",
       "    </tr>\n",
       "  </thead>\n",
       "  <tbody>\n",
       "    <tr>\n",
       "      <th>2.2</th>\n",
       "      <td>94</td>\n",
       "      <td>0.248021</td>\n",
       "    </tr>\n",
       "    <tr>\n",
       "      <th>1.8</th>\n",
       "      <td>53</td>\n",
       "      <td>0.139842</td>\n",
       "    </tr>\n",
       "    <tr>\n",
       "      <th>2.0</th>\n",
       "      <td>51</td>\n",
       "      <td>0.134565</td>\n",
       "    </tr>\n",
       "    <tr>\n",
       "      <th>2.5</th>\n",
       "      <td>45</td>\n",
       "      <td>0.118734</td>\n",
       "    </tr>\n",
       "    <tr>\n",
       "      <th>1.5</th>\n",
       "      <td>45</td>\n",
       "      <td>0.118734</td>\n",
       "    </tr>\n",
       "    <tr>\n",
       "      <th>3.0</th>\n",
       "      <td>43</td>\n",
       "      <td>0.113456</td>\n",
       "    </tr>\n",
       "    <tr>\n",
       "      <th>1.6</th>\n",
       "      <td>30</td>\n",
       "      <td>0.079156</td>\n",
       "    </tr>\n",
       "    <tr>\n",
       "      <th>1.4</th>\n",
       "      <td>18</td>\n",
       "      <td>0.047493</td>\n",
       "    </tr>\n",
       "  </tbody>\n",
       "</table>\n",
       "</div>"
      ],
      "text/plain": [
       "     counts  proportion\n",
       "2.2      94    0.248021\n",
       "1.8      53    0.139842\n",
       "2.0      51    0.134565\n",
       "2.5      45    0.118734\n",
       "1.5      45    0.118734\n",
       "3.0      43    0.113456\n",
       "1.6      30    0.079156\n",
       "1.4      18    0.047493"
      ]
     },
     "execution_count": 21,
     "metadata": {},
     "output_type": "execute_result"
    }
   ],
   "source": [
    "_data_summery.target_summery(pd.Series(df_y_train ))"
   ]
  },
  {
   "cell_type": "code",
   "execution_count": 22,
   "id": "da4b115e-35b6-461c-94f3-ba7fa8c3ce91",
   "metadata": {},
   "outputs": [
    {
     "data": {
      "text/html": [
       "<div>\n",
       "<style scoped>\n",
       "    .dataframe tbody tr th:only-of-type {\n",
       "        vertical-align: middle;\n",
       "    }\n",
       "\n",
       "    .dataframe tbody tr th {\n",
       "        vertical-align: top;\n",
       "    }\n",
       "\n",
       "    .dataframe thead th {\n",
       "        text-align: right;\n",
       "    }\n",
       "</style>\n",
       "<table border=\"1\" class=\"dataframe\">\n",
       "  <thead>\n",
       "    <tr style=\"text-align: right;\">\n",
       "      <th></th>\n",
       "      <th>counts</th>\n",
       "      <th>proportion</th>\n",
       "    </tr>\n",
       "  </thead>\n",
       "  <tbody>\n",
       "    <tr>\n",
       "      <th>2.2</th>\n",
       "      <td>41</td>\n",
       "      <td>0.436170</td>\n",
       "    </tr>\n",
       "    <tr>\n",
       "      <th>1.8</th>\n",
       "      <td>24</td>\n",
       "      <td>0.255319</td>\n",
       "    </tr>\n",
       "    <tr>\n",
       "      <th>2.0</th>\n",
       "      <td>6</td>\n",
       "      <td>0.063830</td>\n",
       "    </tr>\n",
       "    <tr>\n",
       "      <th>2.5</th>\n",
       "      <td>6</td>\n",
       "      <td>0.063830</td>\n",
       "    </tr>\n",
       "    <tr>\n",
       "      <th>3.0</th>\n",
       "      <td>6</td>\n",
       "      <td>0.063830</td>\n",
       "    </tr>\n",
       "    <tr>\n",
       "      <th>1.4</th>\n",
       "      <td>4</td>\n",
       "      <td>0.042553</td>\n",
       "    </tr>\n",
       "    <tr>\n",
       "      <th>1.5</th>\n",
       "      <td>4</td>\n",
       "      <td>0.042553</td>\n",
       "    </tr>\n",
       "    <tr>\n",
       "      <th>1.6</th>\n",
       "      <td>3</td>\n",
       "      <td>0.031915</td>\n",
       "    </tr>\n",
       "  </tbody>\n",
       "</table>\n",
       "</div>"
      ],
      "text/plain": [
       "     counts  proportion\n",
       "2.2      41    0.436170\n",
       "1.8      24    0.255319\n",
       "2.0       6    0.063830\n",
       "2.5       6    0.063830\n",
       "3.0       6    0.063830\n",
       "1.4       4    0.042553\n",
       "1.5       4    0.042553\n",
       "1.6       3    0.031915"
      ]
     },
     "execution_count": 22,
     "metadata": {},
     "output_type": "execute_result"
    }
   ],
   "source": [
    "_data_summery.target_summery(pd.Series(y_c_test))"
   ]
  },
  {
   "cell_type": "code",
   "execution_count": 23,
   "id": "fc47197a-1bbb-40a4-87e7-0a09fbb7c6b2",
   "metadata": {},
   "outputs": [
    {
     "name": "stdout",
     "output_type": "stream",
     "text": [
      "(379, 62)\n",
      "(379,)\n",
      "(94, 62)\n",
      "(94,)\n"
     ]
    }
   ],
   "source": [
    "print(df_x_train.shape)\n",
    "print(df_y_train.shape)\n",
    "print(X_test.shape)\n",
    "print(y_c_test.shape)"
   ]
  },
  {
   "cell_type": "code",
   "execution_count": null,
   "id": "bad76121-c570-43bc-acc1-e1866febd1bc",
   "metadata": {},
   "outputs": [],
   "source": [
    "### output training and test datasets\n",
    "\n",
    "df_x_test = pd.DataFrame(index=np.arange(0,len(y_c_test),1, dtype=int),columns=np.arange(1,63,1, dtype=int))\n",
    "\n",
    "for j in range(len(y_c_test)):\n",
    "    df_x_test.loc[j] =X_test[j]\n",
    "df_x_train.to_csv('new data/x_smote_enn_train_1.csv',index=False)\n",
    "df_y_train.to_csv('new data/y_smote_enn_train_1.csv',index=False,header=False)\n",
    "df_x_test.to_csv('new data/x_smote_enn_test_1.csv',index=False)\n",
    "pd.Series(y_c_test).to_csv('new data/y_smote_enn_test_1.csv',index=False,header=False)"
   ]
  }
 ],
 "metadata": {
  "kernelspec": {
   "display_name": "Python 3 (ipykernel)",
   "language": "python",
   "name": "python3"
  },
  "language_info": {
   "codemirror_mode": {
    "name": "ipython",
    "version": 3
   },
   "file_extension": ".py",
   "mimetype": "text/x-python",
   "name": "python",
   "nbconvert_exporter": "python",
   "pygments_lexer": "ipython3",
   "version": "3.11.3"
  }
 },
 "nbformat": 4,
 "nbformat_minor": 5
}
